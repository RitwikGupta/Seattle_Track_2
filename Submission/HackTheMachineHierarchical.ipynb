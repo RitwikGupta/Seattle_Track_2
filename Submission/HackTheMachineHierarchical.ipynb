{
 "cells": [
  {
   "cell_type": "code",
   "execution_count": 2,
   "metadata": {
    "collapsed": true
   },
   "outputs": [],
   "source": [
    "from IPython.display import display, HTML\n",
    "\n",
    "import sys\n",
    "\n",
    "from pyspark import SparkConf, SparkContext, SQLContext\n",
    "from pyspark.mllib.clustering import BisectingKMeans, BisectingKMeansModel\n",
    "import matplotlib.pyplot as plt\n",
    "import numpy\n",
    "import geopandas\n",
    "import pandas\n",
    "import geopy\n",
    "import seaborn as sns"
   ]
  },
  {
   "cell_type": "code",
   "execution_count": 3,
   "metadata": {
    "collapsed": true
   },
   "outputs": [],
   "source": [
    "conf = SparkConf().setAppName(\"HackTheMachineHierarchical\")\n",
    "conf = conf.setMaster(\"local[*]\")\n",
    "sc = SparkContext(conf=conf)\n",
    "sqlContext = SQLContext(sc)"
   ]
  },
  {
   "cell_type": "code",
   "execution_count": 4,
   "metadata": {},
   "outputs": [
    {
     "data": {
      "text/html": [
       "\n",
       "        <div>\n",
       "            <p><b>SparkContext</b></p>\n",
       "\n",
       "            <p><a href=\"http://etc-gpu-05.etc.sei.cmu.edu:4040\">Spark UI</a></p>\n",
       "\n",
       "            <dl>\n",
       "              <dt>Version</dt>\n",
       "                <dd><code>v2.3.1</code></dd>\n",
       "              <dt>Master</dt>\n",
       "                <dd><code>local[*]</code></dd>\n",
       "              <dt>AppName</dt>\n",
       "                <dd><code>HackTheMachineHierarchical</code></dd>\n",
       "            </dl>\n",
       "        </div>\n",
       "        "
      ],
      "text/plain": [
       "<SparkContext master=local[*] appName=HackTheMachineHierarchical>"
      ]
     },
     "execution_count": 4,
     "metadata": {},
     "output_type": "execute_result"
    }
   ],
   "source": [
    "sc"
   ]
  },
  {
   "cell_type": "code",
   "execution_count": 5,
   "metadata": {
    "collapsed": true
   },
   "outputs": [],
   "source": [
    "df = sqlContext.read\\\n",
    "                .format(\"csv\")\\\n",
    "                .options(header=\"true\", inferSchema=\"true\")\\\n",
    "                .load(\"/srv/scratch/hackthemachine/data/AIS_ASCII_by_UTM_Month/2015/AIS_2015_01_Zone10.csv\")"
   ]
  },
  {
   "cell_type": "code",
   "execution_count": 6,
   "metadata": {
    "collapsed": true
   },
   "outputs": [],
   "source": [
    "from pyspark.sql.functions import when, lit, col\n",
    "from pyspark.sql.types import DoubleType, LongType\n",
    "clust_df = df.select(\"MMSI\", \"LAT\", \"LON\", \"BaseDateTime\")\n",
    "clust_df = clust_df.withColumn(\"BaseDateTime\", clust_df.BaseDateTime.cast(LongType()))\n",
    "clust_df = clust_df.withColumn(\"MMSI\", clust_df.MMSI.cast(LongType()))"
   ]
  },
  {
   "cell_type": "code",
   "execution_count": 7,
   "metadata": {},
   "outputs": [
    {
     "data": {
      "text/plain": [
       "[Row(MMSI=367013050, LAT=47.64809, LON=-122.35087, BaseDateTime=1420088417),\n",
       " Row(MMSI=367436210, LAT=46.19725, LON=-123.80085, BaseDateTime=1420088537),\n",
       " Row(MMSI=367492890, LAT=47.82257, LON=-122.4704, BaseDateTime=1420088548),\n",
       " Row(MMSI=367350050, LAT=37.8169, LON=-122.40924, BaseDateTime=1420088569),\n",
       " Row(MMSI=316013431, LAT=48.41467, LON=-123.38626, BaseDateTime=1420088613)]"
      ]
     },
     "execution_count": 7,
     "metadata": {},
     "output_type": "execute_result"
    }
   ],
   "source": [
    "clust_df.rdd.take(5)"
   ]
  },
  {
   "cell_type": "code",
   "execution_count": null,
   "metadata": {
    "collapsed": true
   },
   "outputs": [],
   "source": [
    "from pyspark.mllib.linalg.distributed import RowMatrix, IndexedRow, IndexedRowMatrix\n",
    "from pyspark.mllib.linalg import Vectors\n",
    "clust_df_vec = clust_df.rdd.map(lambda d: IndexedRow(d[0], Vectors.dense(d[1], d[2], d[3])))\n",
    "clust_df_rm = IndexedRowMatrix(clust_df_vec).toBlockMatrix().transpose().toIndexedRowMatrix()"
   ]
  },
  {
   "cell_type": "code",
   "execution_count": null,
   "metadata": {
    "collapsed": true
   },
   "outputs": [],
   "source": [
    "dimsum_sim = clust_df_rm.columnSimilarities(0.1)"
   ]
  },
  {
   "cell_type": "code",
   "execution_count": null,
   "metadata": {
    "collapsed": true
   },
   "outputs": [],
   "source": [
    "sim_entries = dimsum_sim.entries"
   ]
  },
  {
   "cell_type": "code",
   "execution_count": null,
   "metadata": {
    "collapsed": true
   },
   "outputs": [],
   "source": [
    "sim_entries.take(5)"
   ]
  },
  {
   "cell_type": "code",
   "execution_count": null,
   "metadata": {
    "collapsed": true
   },
   "outputs": [],
   "source": [
    "sim_entries.count()"
   ]
  },
  {
   "cell_type": "code",
   "execution_count": null,
   "metadata": {
    "collapsed": true
   },
   "outputs": [],
   "source": [
    "dimsum_sim.toIndexedRowMatrix().rows.take(10)"
   ]
  },
  {
   "cell_type": "code",
   "execution_count": null,
   "metadata": {
    "collapsed": true
   },
   "outputs": [],
   "source": []
  }
 ],
 "metadata": {
  "kernelspec": {
   "display_name": "Python 3",
   "language": "python",
   "name": "python3"
  },
  "language_info": {
   "codemirror_mode": {
    "name": "ipython",
    "version": 3
   },
   "file_extension": ".py",
   "mimetype": "text/x-python",
   "name": "python",
   "nbconvert_exporter": "python",
   "pygments_lexer": "ipython3",
   "version": "3.6.2"
  }
 },
 "nbformat": 4,
 "nbformat_minor": 2
}
